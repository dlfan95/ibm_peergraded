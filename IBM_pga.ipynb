{
 "cells": [
  {
   "cell_type": "markdown",
   "id": "17f5a3cc-979c-4817-910a-98439c4daabc",
   "metadata": {},
   "source": [
    "# IBM Data Science Peer-Reviewed Assignment"
   ]
  },
  {
   "cell_type": "markdown",
   "id": "7f132b7d-78ae-4f5a-81bd-a444edf3d463",
   "metadata": {},
   "source": [
    "This notebook includes examples to demonstrate my ability to create a Jupyter notebook and implement its various features."
   ]
  },
  {
   "cell_type": "markdown",
   "id": "71db29ec-5861-4bce-b17c-244a8fa7f239",
   "metadata": {},
   "source": [
    "Data Science Languages\n",
    "\n",
    "- Python\n",
    "- R\n",
    "- SQL"
   ]
  },
  {
   "cell_type": "markdown",
   "id": "40c189f3-62fb-4b95-ad76-11afcff5b6b4",
   "metadata": {},
   "source": [
    "Data Science Libraries\n",
    "\n",
    "- pandas\n",
    "- matplotlib\n",
    "- apache spark"
   ]
  },
  {
   "cell_type": "markdown",
   "id": "aef3043b-4ce1-488f-9943-58cd2b290a11",
   "metadata": {},
   "source": [
    "Data Science Tools\n",
    "\n",
    "|Tool|Category|\n",
    "|------|------|\n",
    "|MySQL|Data management|\n",
    "|Apache AirFlow| ETL |\n",
    "|Tableau|Visualization|"
   ]
  },
  {
   "cell_type": "markdown",
   "id": "0176cda9-3f19-435b-b7fd-59b63c2ea348",
   "metadata": {},
   "source": [
    "The following cell will demonstrate the basic arithmetic operations of addition and multiplication."
   ]
  },
  {
   "cell_type": "code",
   "execution_count": 5,
   "id": "f3f6058b-2346-442f-bd90-18907368142b",
   "metadata": {},
   "outputs": [
    {
     "data": {
      "text/plain": [
       "3"
      ]
     },
     "execution_count": 5,
     "metadata": {},
     "output_type": "execute_result"
    }
   ],
   "source": [
    "1+1*2"
   ]
  },
  {
   "cell_type": "markdown",
   "id": "0c2ea54a-2049-4f5e-993f-6afa8f73265e",
   "metadata": {},
   "source": [
    "The following cell will convert minutes to hours."
   ]
  },
  {
   "cell_type": "code",
   "execution_count": 6,
   "id": "1783affb-84fc-44f8-9e7d-9caab771d9b4",
   "metadata": {},
   "outputs": [
    {
     "name": "stdout",
     "output_type": "stream",
     "text": [
      "99.31666666666666\n"
     ]
    }
   ],
   "source": [
    "minutes = 5959\n",
    "hours = minutes/60\n",
    "print(hours)"
   ]
  },
  {
   "cell_type": "markdown",
   "id": "ad5c06bc-6bb1-4582-876f-8063147e7058",
   "metadata": {},
   "source": [
    "ok not gonna lie idk what they actually mean when the instructions say \"list objectives\" but uhhh\n",
    "\n",
    "Objectives:\n",
    "- Create a Jupyter notebook\n",
    "- Demonstrate understanding of markup language and differentiate between usage of markup vs code cells\n",
    "- Demonstrate ability to use GitHub to share code"
   ]
  },
  {
   "cell_type": "markdown",
   "id": "4469bbd1-20d7-4ce1-b766-36c6756ae557",
   "metadata": {},
   "source": [
    "Name: Daniel Fan"
   ]
  },
  {
   "cell_type": "code",
   "execution_count": null,
   "id": "b81f484c-7a59-43a2-b623-584406e599af",
   "metadata": {},
   "outputs": [],
   "source": []
  }
 ],
 "metadata": {
  "kernelspec": {
   "display_name": "Python",
   "language": "python",
   "name": "conda-env-python-py"
  },
  "language_info": {
   "codemirror_mode": {
    "name": "ipython",
    "version": 3
   },
   "file_extension": ".py",
   "mimetype": "text/x-python",
   "name": "python",
   "nbconvert_exporter": "python",
   "pygments_lexer": "ipython3",
   "version": "3.7.12"
  }
 },
 "nbformat": 4,
 "nbformat_minor": 5
}
